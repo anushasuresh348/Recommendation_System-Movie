{
 "cells": [
  {
   "cell_type": "code",
   "execution_count": 1,
   "id": "53d94cd5",
   "metadata": {
    "_cell_guid": "b1076dfc-b9ad-4769-8c92-a6c4dae69d19",
    "_uuid": "8f2839f25d086af736a60e9eeb907d3b93b6e0e5",
    "execution": {
     "iopub.execute_input": "2022-07-20T11:02:53.386271Z",
     "iopub.status.busy": "2022-07-20T11:02:53.385808Z",
     "iopub.status.idle": "2022-07-20T11:02:53.397773Z",
     "shell.execute_reply": "2022-07-20T11:02:53.396887Z"
    },
    "papermill": {
     "duration": 0.02462,
     "end_time": "2022-07-20T11:02:53.400431",
     "exception": false,
     "start_time": "2022-07-20T11:02:53.375811",
     "status": "completed"
    },
    "tags": []
   },
   "outputs": [],
   "source": [
    "# This Python 3 environment comes with many helpful analytics libraries installed\n",
    "# It is defined by the kaggle/python Docker image: https://github.com/kaggle/docker-python\n",
    "# For example, here's several helpful packages to load\n",
    "\n",
    "import numpy as np # linear algebra\n",
    "import pandas as pd # data processing, CSV file I/O (e.g. pd.read_csv)\n",
    "\n",
    "# Input data files are available in the read-only \"../input/\" directory\n",
    "# For example, running this (by clicking run or pressing Shift+Enter) will list all files under the input directory\n",
    "\n",
    "import os\n",
    "for dirname, _, filenames in os.walk('/kaggle/input'):\n",
    "    for filename in filenames:\n",
    "        print(os.path.join(dirname, filename))\n",
    "\n",
    "# You can write up to 20GB to the current directory (/kaggle/working/) that gets preserved as output when you create a version using \"Save & Run All\" \n",
    "# You can also write temporary files to /kaggle/temp/, but they won't be saved outside of the current session"
   ]
  },
  {
   "cell_type": "markdown",
   "id": "9585f0e0",
   "metadata": {
    "papermill": {
     "duration": 0.006676,
     "end_time": "2022-07-20T11:02:53.414911",
     "exception": false,
     "start_time": "2022-07-20T11:02:53.408235",
     "status": "completed"
    },
    "tags": []
   },
   "source": [
    "LightFM is a Python implementation of a number of popular recommendation algorithms. LightFM includes implementations of BPR and WARP ranking losses(A loss function is a measure of how good a prediction model does in terms of being able to predict the expected outcome.).LightFm also contains a large set of datasets related to the movie rating. \n",
    "\n",
    "BPR: Bayesian Personalised Ranking pairwise loss: It maximizes the prediction difference between a positive example and a randomly chosen negative example. It is useful when only positive interactions are present.\n",
    "\n",
    "WARP: Weighted Approximate-Rank Pairwise loss: Maximises the rank of positive examples by repeatedly sampling negative examples until rank violating one is found"
   ]
  },
  {
   "cell_type": "code",
   "execution_count": 2,
   "id": "de11dc3d",
   "metadata": {
    "execution": {
     "iopub.execute_input": "2022-07-20T11:02:53.432031Z",
     "iopub.status.busy": "2022-07-20T11:02:53.431455Z",
     "iopub.status.idle": "2022-07-20T11:03:04.248784Z",
     "shell.execute_reply": "2022-07-20T11:03:04.247250Z"
    },
    "papermill": {
     "duration": 10.828502,
     "end_time": "2022-07-20T11:03:04.251275",
     "exception": false,
     "start_time": "2022-07-20T11:02:53.422773",
     "status": "completed"
    },
    "tags": []
   },
   "outputs": [
    {
     "name": "stdout",
     "output_type": "stream",
     "text": [
      "Requirement already satisfied: lightfm in /opt/conda/lib/python3.7/site-packages (1.16)\r\n",
      "Requirement already satisfied: scikit-learn in /opt/conda/lib/python3.7/site-packages (from lightfm) (1.0.2)\r\n",
      "Requirement already satisfied: numpy in /opt/conda/lib/python3.7/site-packages (from lightfm) (1.21.6)\r\n",
      "Requirement already satisfied: scipy>=0.17.0 in /opt/conda/lib/python3.7/site-packages (from lightfm) (1.7.3)\r\n",
      "Requirement already satisfied: requests in /opt/conda/lib/python3.7/site-packages (from lightfm) (2.27.1)\r\n",
      "Requirement already satisfied: certifi>=2017.4.17 in /opt/conda/lib/python3.7/site-packages (from requests->lightfm) (2022.6.15)\r\n",
      "Requirement already satisfied: charset-normalizer~=2.0.0 in /opt/conda/lib/python3.7/site-packages (from requests->lightfm) (2.0.12)\r\n",
      "Requirement already satisfied: idna<4,>=2.5 in /opt/conda/lib/python3.7/site-packages (from requests->lightfm) (3.3)\r\n",
      "Requirement already satisfied: urllib3<1.27,>=1.21.1 in /opt/conda/lib/python3.7/site-packages (from requests->lightfm) (1.26.9)\r\n",
      "Requirement already satisfied: joblib>=0.11 in /opt/conda/lib/python3.7/site-packages (from scikit-learn->lightfm) (1.1.0)\r\n",
      "Requirement already satisfied: threadpoolctl>=2.0.0 in /opt/conda/lib/python3.7/site-packages (from scikit-learn->lightfm) (3.1.0)\r\n",
      "\u001b[33mWARNING: Running pip as the 'root' user can result in broken permissions and conflicting behaviour with the system package manager. It is recommended to use a virtual environment instead: https://pip.pypa.io/warnings/venv\u001b[0m\u001b[33m\r\n",
      "\u001b[0mNote: you may need to restart the kernel to use updated packages.\n"
     ]
    }
   ],
   "source": [
    "pip install lightfm"
   ]
  },
  {
   "cell_type": "code",
   "execution_count": 3,
   "id": "b135f0f2",
   "metadata": {
    "execution": {
     "iopub.execute_input": "2022-07-20T11:03:04.267845Z",
     "iopub.status.busy": "2022-07-20T11:03:04.267418Z",
     "iopub.status.idle": "2022-07-20T11:03:04.371384Z",
     "shell.execute_reply": "2022-07-20T11:03:04.370396Z"
    },
    "papermill": {
     "duration": 0.114917,
     "end_time": "2022-07-20T11:03:04.373783",
     "exception": false,
     "start_time": "2022-07-20T11:03:04.258866",
     "status": "completed"
    },
    "tags": []
   },
   "outputs": [],
   "source": [
    "import numpy as np\n",
    "from lightfm.datasets import fetch_movielens\n",
    "from lightfm import LightFM"
   ]
  },
  {
   "cell_type": "markdown",
   "id": "44e6b087",
   "metadata": {
    "papermill": {
     "duration": 0.007026,
     "end_time": "2022-07-20T11:03:04.388151",
     "exception": false,
     "start_time": "2022-07-20T11:03:04.381125",
     "status": "completed"
    },
    "tags": []
   },
   "source": [
    "fetch_movielens method is the method from lightfm that can be used to fetch movie data. We can fetch the movie data with a minimum rating of 4."
   ]
  },
  {
   "cell_type": "code",
   "execution_count": 4,
   "id": "1989f0b1",
   "metadata": {
    "execution": {
     "iopub.execute_input": "2022-07-20T11:03:04.405635Z",
     "iopub.status.busy": "2022-07-20T11:03:04.405222Z",
     "iopub.status.idle": "2022-07-20T11:03:05.556374Z",
     "shell.execute_reply": "2022-07-20T11:03:05.555103Z"
    },
    "papermill": {
     "duration": 1.163647,
     "end_time": "2022-07-20T11:03:05.559044",
     "exception": false,
     "start_time": "2022-07-20T11:03:04.395397",
     "status": "completed"
    },
    "tags": []
   },
   "outputs": [],
   "source": [
    "data = fetch_movielens(min_rating = 4.0)"
   ]
  },
  {
   "cell_type": "markdown",
   "id": "19027453",
   "metadata": {
    "papermill": {
     "duration": 0.007366,
     "end_time": "2022-07-20T11:03:05.574231",
     "exception": false,
     "start_time": "2022-07-20T11:03:05.566865",
     "status": "completed"
    },
    "tags": []
   },
   "source": [
    "The ‘data’ variable will contain the movie data that is divided into many categories test and train."
   ]
  },
  {
   "cell_type": "code",
   "execution_count": 5,
   "id": "f508b7b9",
   "metadata": {
    "execution": {
     "iopub.execute_input": "2022-07-20T11:03:05.591100Z",
     "iopub.status.busy": "2022-07-20T11:03:05.590688Z",
     "iopub.status.idle": "2022-07-20T11:03:05.600899Z",
     "shell.execute_reply": "2022-07-20T11:03:05.599781Z"
    },
    "papermill": {
     "duration": 0.021891,
     "end_time": "2022-07-20T11:03:05.603556",
     "exception": false,
     "start_time": "2022-07-20T11:03:05.581665",
     "status": "completed"
    },
    "tags": []
   },
   "outputs": [
    {
     "data": {
      "text/plain": [
       "{'train': <943x1682 sparse matrix of type '<class 'numpy.int32'>'\n",
       " \twith 49906 stored elements in COOrdinate format>,\n",
       " 'test': <943x1682 sparse matrix of type '<class 'numpy.int32'>'\n",
       " \twith 5469 stored elements in COOrdinate format>,\n",
       " 'item_features': <1682x1682 sparse matrix of type '<class 'numpy.float32'>'\n",
       " \twith 1682 stored elements in Compressed Sparse Row format>,\n",
       " 'item_feature_labels': array(['Toy Story (1995)', 'GoldenEye (1995)', 'Four Rooms (1995)', ...,\n",
       "        'Sliding Doors (1998)', 'You So Crazy (1994)',\n",
       "        'Scream of Stone (Schrei aus Stein) (1991)'], dtype=object),\n",
       " 'item_labels': array(['Toy Story (1995)', 'GoldenEye (1995)', 'Four Rooms (1995)', ...,\n",
       "        'Sliding Doors (1998)', 'You So Crazy (1994)',\n",
       "        'Scream of Stone (Schrei aus Stein) (1991)'], dtype=object)}"
      ]
     },
     "execution_count": 5,
     "metadata": {},
     "output_type": "execute_result"
    }
   ],
   "source": [
    "data"
   ]
  },
  {
   "cell_type": "code",
   "execution_count": 6,
   "id": "d150e392",
   "metadata": {
    "execution": {
     "iopub.execute_input": "2022-07-20T11:03:05.621641Z",
     "iopub.status.busy": "2022-07-20T11:03:05.621270Z",
     "iopub.status.idle": "2022-07-20T11:03:05.628004Z",
     "shell.execute_reply": "2022-07-20T11:03:05.626672Z"
    },
    "papermill": {
     "duration": 0.019664,
     "end_time": "2022-07-20T11:03:05.630915",
     "exception": false,
     "start_time": "2022-07-20T11:03:05.611251",
     "status": "completed"
    },
    "tags": []
   },
   "outputs": [
    {
     "name": "stdout",
     "output_type": "stream",
     "text": [
      "<943x1682 sparse matrix of type '<class 'numpy.int32'>'\n",
      "\twith 49906 stored elements in COOrdinate format>\n",
      "<943x1682 sparse matrix of type '<class 'numpy.int32'>'\n",
      "\twith 5469 stored elements in COOrdinate format>\n"
     ]
    }
   ],
   "source": [
    "print(repr(data['train'])) # repr() Function returns a printable representation of the object passed to it.\n",
    "print(repr(data['test']))"
   ]
  },
  {
   "cell_type": "markdown",
   "id": "e45b8a18",
   "metadata": {
    "papermill": {
     "duration": 0.007275,
     "end_time": "2022-07-20T11:03:05.646665",
     "exception": false,
     "start_time": "2022-07-20T11:03:05.639390",
     "status": "completed"
    },
    "tags": []
   },
   "source": [
    "We can see that the amount of train data is much greater than the test data. This because typically when you separate a dataset into a training set and testing set, most of the data is used for training."
   ]
  },
  {
   "cell_type": "markdown",
   "id": "a002d550",
   "metadata": {
    "papermill": {
     "duration": 0.008108,
     "end_time": "2022-07-20T11:03:05.662310",
     "exception": false,
     "start_time": "2022-07-20T11:03:05.654202",
     "status": "completed"
    },
    "tags": []
   },
   "source": [
    "**Modelling using 'warp' loss**"
   ]
  },
  {
   "cell_type": "code",
   "execution_count": 7,
   "id": "be1215a5",
   "metadata": {
    "execution": {
     "iopub.execute_input": "2022-07-20T11:03:05.679665Z",
     "iopub.status.busy": "2022-07-20T11:03:05.679282Z",
     "iopub.status.idle": "2022-07-20T11:03:05.684620Z",
     "shell.execute_reply": "2022-07-20T11:03:05.683436Z"
    },
    "papermill": {
     "duration": 0.01723,
     "end_time": "2022-07-20T11:03:05.687354",
     "exception": false,
     "start_time": "2022-07-20T11:03:05.670124",
     "status": "completed"
    },
    "tags": []
   },
   "outputs": [],
   "source": [
    "model = LightFM(loss = 'warp')"
   ]
  },
  {
   "cell_type": "markdown",
   "id": "d4517721",
   "metadata": {
    "papermill": {
     "duration": 0.007176,
     "end_time": "2022-07-20T11:03:05.702105",
     "exception": false,
     "start_time": "2022-07-20T11:03:05.694929",
     "status": "completed"
    },
    "tags": []
   },
   "source": [
    "train this model using our train data, with an epoch or iteration value of 30."
   ]
  },
  {
   "cell_type": "code",
   "execution_count": 8,
   "id": "734c06c9",
   "metadata": {
    "execution": {
     "iopub.execute_input": "2022-07-20T11:03:05.719977Z",
     "iopub.status.busy": "2022-07-20T11:03:05.719561Z",
     "iopub.status.idle": "2022-07-20T11:03:06.717897Z",
     "shell.execute_reply": "2022-07-20T11:03:06.716715Z"
    },
    "papermill": {
     "duration": 1.010035,
     "end_time": "2022-07-20T11:03:06.720452",
     "exception": false,
     "start_time": "2022-07-20T11:03:05.710417",
     "status": "completed"
    },
    "tags": []
   },
   "outputs": [
    {
     "data": {
      "text/plain": [
       "<lightfm.lightfm.LightFM at 0x7fc0dac24450>"
      ]
     },
     "execution_count": 8,
     "metadata": {},
     "output_type": "execute_result"
    }
   ],
   "source": [
    "model.fit(data['train'], epochs=30, num_threads=2)"
   ]
  },
  {
   "cell_type": "markdown",
   "id": "b2065faa",
   "metadata": {
    "papermill": {
     "duration": 0.00731,
     "end_time": "2022-07-20T11:03:06.735692",
     "exception": false,
     "start_time": "2022-07-20T11:03:06.728382",
     "status": "completed"
    },
    "tags": []
   },
   "source": [
    "build the function that process this data to recommend movies for any number of users. Our function will take the model, data and an array of user_ids."
   ]
  },
  {
   "cell_type": "code",
   "execution_count": 9,
   "id": "ab342673",
   "metadata": {
    "execution": {
     "iopub.execute_input": "2022-07-20T11:03:06.753044Z",
     "iopub.status.busy": "2022-07-20T11:03:06.752341Z",
     "iopub.status.idle": "2022-07-20T11:03:06.760074Z",
     "shell.execute_reply": "2022-07-20T11:03:06.758871Z"
    },
    "papermill": {
     "duration": 0.019193,
     "end_time": "2022-07-20T11:03:06.762519",
     "exception": false,
     "start_time": "2022-07-20T11:03:06.743326",
     "status": "completed"
    },
    "tags": []
   },
   "outputs": [],
   "source": [
    "def sample_recommendation(model, data, user_ids): \n",
    "    n_users, n_items = data['train'].shape #get the number of all users and movies.\n",
    "    for user_id in user_ids: # iterate the user_ids.\n",
    "        known_positives = data['item_labels'][data['train'].tocsr()[user_id].indices] #For each user, we need to find the known positives or the movies they liked\n",
    "        # we need to find the movies the user like. \n",
    "        # This can be done by the predict method of LightFm. \n",
    "        # The parameters of this function are user_id and the n_items variable arrange by numpy arrange\n",
    "        scores = model.predict(user_id, np.arange(n_items)) \n",
    "        top_items = data['item_labels'][np.argsort(-scores)] #sort the scores based on the order of most liked to least liked\n",
    "        print(\"User %s\" % user_id) #  print the first 3 known positives and 3 predictions.\n",
    "        print(\"Known positives:\")\n",
    "        for x in known_positives[:3]:\n",
    "            print(\"%s\" % x)\n",
    "            print(\"Recommended:\")\n",
    "        for x in top_items[:3]:\n",
    "            print(\"%s\" % x)"
   ]
  },
  {
   "cell_type": "code",
   "execution_count": 10,
   "id": "1b5c7ca4",
   "metadata": {
    "execution": {
     "iopub.execute_input": "2022-07-20T11:03:06.780824Z",
     "iopub.status.busy": "2022-07-20T11:03:06.780412Z",
     "iopub.status.idle": "2022-07-20T11:03:06.791748Z",
     "shell.execute_reply": "2022-07-20T11:03:06.790857Z"
    },
    "papermill": {
     "duration": 0.023614,
     "end_time": "2022-07-20T11:03:06.793757",
     "exception": false,
     "start_time": "2022-07-20T11:03:06.770143",
     "status": "completed"
    },
    "tags": []
   },
   "outputs": [
    {
     "name": "stdout",
     "output_type": "stream",
     "text": [
      "User 3\n",
      "Known positives:\n",
      "Seven (Se7en) (1995)\n",
      "Recommended:\n",
      "Contact (1997)\n",
      "Recommended:\n",
      "Starship Troopers (1997)\n",
      "Recommended:\n",
      "Scream (1996)\n",
      "Cop Land (1997)\n",
      "Jackie Brown (1997)\n",
      "User 25\n",
      "Known positives:\n",
      "Dead Man Walking (1995)\n",
      "Recommended:\n",
      "Star Wars (1977)\n",
      "Recommended:\n",
      "Fargo (1996)\n",
      "Recommended:\n",
      "English Patient, The (1996)\n",
      "Fargo (1996)\n",
      "Contact (1997)\n",
      "User 451\n",
      "Known positives:\n",
      "Twelve Monkeys (1995)\n",
      "Recommended:\n",
      "Babe (1995)\n",
      "Recommended:\n",
      "Mr. Holland's Opus (1995)\n",
      "Recommended:\n",
      "Raiders of the Lost Ark (1981)\n",
      "Casablanca (1942)\n",
      "Citizen Kane (1941)\n"
     ]
    }
   ],
   "source": [
    "sample_recommendation(model, data, [3, 25, 451]) #providing three random user_ids."
   ]
  },
  {
   "cell_type": "code",
   "execution_count": 11,
   "id": "e6ac1dc6",
   "metadata": {
    "execution": {
     "iopub.execute_input": "2022-07-20T11:03:06.810981Z",
     "iopub.status.busy": "2022-07-20T11:03:06.810613Z",
     "iopub.status.idle": "2022-07-20T11:03:06.814939Z",
     "shell.execute_reply": "2022-07-20T11:03:06.813808Z"
    },
    "papermill": {
     "duration": 0.015438,
     "end_time": "2022-07-20T11:03:06.817020",
     "exception": false,
     "start_time": "2022-07-20T11:03:06.801582",
     "status": "completed"
    },
    "tags": []
   },
   "outputs": [],
   "source": [
    "# Extract our training and test datasets\n",
    "train = data['train']\n",
    "test = data['test']"
   ]
  },
  {
   "cell_type": "code",
   "execution_count": 12,
   "id": "db932471",
   "metadata": {
    "execution": {
     "iopub.execute_input": "2022-07-20T11:03:06.834013Z",
     "iopub.status.busy": "2022-07-20T11:03:06.833616Z",
     "iopub.status.idle": "2022-07-20T11:03:07.287186Z",
     "shell.execute_reply": "2022-07-20T11:03:07.285170Z"
    },
    "papermill": {
     "duration": 0.465305,
     "end_time": "2022-07-20T11:03:07.289949",
     "exception": false,
     "start_time": "2022-07-20T11:03:06.824644",
     "status": "completed"
    },
    "tags": []
   },
   "outputs": [
    {
     "name": "stdout",
     "output_type": "stream",
     "text": [
      "Precision: train 0.53, test 0.08.\n",
      "AUC: train 0.96, test 0.92.\n"
     ]
    }
   ],
   "source": [
    "# Evaluate it's performance\n",
    "from lightfm.evaluation import precision_at_k\n",
    "from lightfm.evaluation import auc_score\n",
    "\n",
    "train_precision = precision_at_k(model, train, k=10).mean()\n",
    "test_precision = precision_at_k(model, test, k=10).mean()\n",
    "\n",
    "train_auc = auc_score(model, train).mean()\n",
    "test_auc = auc_score(model, test).mean()\n",
    "\n",
    "print('Precision: train %.2f, test %.2f.' % (train_precision, test_precision))\n",
    "print('AUC: train %.2f, test %.2f.' % (train_auc, test_auc))"
   ]
  },
  {
   "cell_type": "markdown",
   "id": "199d284c",
   "metadata": {
    "papermill": {
     "duration": 0.007316,
     "end_time": "2022-07-20T11:03:07.305387",
     "exception": false,
     "start_time": "2022-07-20T11:03:07.298071",
     "status": "completed"
    },
    "tags": []
   },
   "source": [
    "**Modelling using 'bpr' loss**"
   ]
  },
  {
   "cell_type": "code",
   "execution_count": 13,
   "id": "86c00cc8",
   "metadata": {
    "execution": {
     "iopub.execute_input": "2022-07-20T11:03:07.322416Z",
     "iopub.status.busy": "2022-07-20T11:03:07.321838Z",
     "iopub.status.idle": "2022-07-20T11:03:07.326183Z",
     "shell.execute_reply": "2022-07-20T11:03:07.325186Z"
    },
    "papermill": {
     "duration": 0.01553,
     "end_time": "2022-07-20T11:03:07.328393",
     "exception": false,
     "start_time": "2022-07-20T11:03:07.312863",
     "status": "completed"
    },
    "tags": []
   },
   "outputs": [],
   "source": [
    "model1 = LightFM(loss = 'bpr')"
   ]
  },
  {
   "cell_type": "code",
   "execution_count": 14,
   "id": "90510b36",
   "metadata": {
    "execution": {
     "iopub.execute_input": "2022-07-20T11:03:07.345736Z",
     "iopub.status.busy": "2022-07-20T11:03:07.345316Z",
     "iopub.status.idle": "2022-07-20T11:03:08.146382Z",
     "shell.execute_reply": "2022-07-20T11:03:08.145295Z"
    },
    "papermill": {
     "duration": 0.812046,
     "end_time": "2022-07-20T11:03:08.148479",
     "exception": false,
     "start_time": "2022-07-20T11:03:07.336433",
     "status": "completed"
    },
    "tags": []
   },
   "outputs": [
    {
     "data": {
      "text/plain": [
       "<lightfm.lightfm.LightFM at 0x7fc0db671950>"
      ]
     },
     "execution_count": 14,
     "metadata": {},
     "output_type": "execute_result"
    }
   ],
   "source": [
    "model1.fit(data['train'], epochs=30, num_threads=2)"
   ]
  },
  {
   "cell_type": "code",
   "execution_count": 15,
   "id": "6d3a4f2a",
   "metadata": {
    "execution": {
     "iopub.execute_input": "2022-07-20T11:03:08.166510Z",
     "iopub.status.busy": "2022-07-20T11:03:08.165875Z",
     "iopub.status.idle": "2022-07-20T11:03:08.662033Z",
     "shell.execute_reply": "2022-07-20T11:03:08.660748Z"
    },
    "papermill": {
     "duration": 0.507911,
     "end_time": "2022-07-20T11:03:08.664229",
     "exception": false,
     "start_time": "2022-07-20T11:03:08.156318",
     "status": "completed"
    },
    "tags": []
   },
   "outputs": [
    {
     "name": "stdout",
     "output_type": "stream",
     "text": [
      "Precision: train 0.51, test 0.06.\n",
      "AUC: train 0.92, test 0.85.\n"
     ]
    }
   ],
   "source": [
    "# Evaluate it's performance\n",
    "train_precision = precision_at_k(model1, train, k=10).mean()\n",
    "test_precision = precision_at_k(model1, test, k=10).mean()\n",
    "\n",
    "train_auc = auc_score(model1, train).mean()\n",
    "test_auc = auc_score(model1, test).mean()\n",
    "\n",
    "print('Precision: train %.2f, test %.2f.' % (train_precision, test_precision))\n",
    "print('AUC: train %.2f, test %.2f.' % (train_auc, test_auc))"
   ]
  },
  {
   "cell_type": "code",
   "execution_count": 16,
   "id": "7efb56aa",
   "metadata": {
    "execution": {
     "iopub.execute_input": "2022-07-20T11:03:08.681947Z",
     "iopub.status.busy": "2022-07-20T11:03:08.681527Z",
     "iopub.status.idle": "2022-07-20T11:03:08.689208Z",
     "shell.execute_reply": "2022-07-20T11:03:08.687956Z"
    },
    "papermill": {
     "duration": 0.019506,
     "end_time": "2022-07-20T11:03:08.691585",
     "exception": false,
     "start_time": "2022-07-20T11:03:08.672079",
     "status": "completed"
    },
    "tags": []
   },
   "outputs": [],
   "source": [
    "def sample_recommendation(model1, data, user_ids): \n",
    "    n_users, n_items = data['train'].shape #get the number of all users and movies.\n",
    "    for user_id in user_ids: # iterate the user_ids.\n",
    "        known_positives = data['item_labels'][data['train'].tocsr()[user_id].indices] #For each user, we need to find the known positives or the movies they liked\n",
    "        # we need to find the movies the user like. \n",
    "        # This can be done by the predict method of LightFm. \n",
    "        # The parameters of this function are user_id and the n_items variable arrange by numpy arrange\n",
    "        scores = model1.predict(user_id, np.arange(n_items)) \n",
    "        top_items = data['item_labels'][np.argsort(-scores)] #sort the scores based on the order of most liked to least liked\n",
    "        print(\"User %s\" % user_id) #  print the first 3 known positives and 3 predictions.\n",
    "        print(\"Known positives:\")\n",
    "        for x in known_positives[:3]:\n",
    "            print(\"%s\" % x)\n",
    "            print(\"Recommended:\")\n",
    "        for x in top_items[:3]:\n",
    "            print(\"%s\" % x)"
   ]
  },
  {
   "cell_type": "code",
   "execution_count": 17,
   "id": "f07da8be",
   "metadata": {
    "execution": {
     "iopub.execute_input": "2022-07-20T11:03:08.710131Z",
     "iopub.status.busy": "2022-07-20T11:03:08.709308Z",
     "iopub.status.idle": "2022-07-20T11:03:08.718392Z",
     "shell.execute_reply": "2022-07-20T11:03:08.717400Z"
    },
    "papermill": {
     "duration": 0.02078,
     "end_time": "2022-07-20T11:03:08.720550",
     "exception": false,
     "start_time": "2022-07-20T11:03:08.699770",
     "status": "completed"
    },
    "tags": []
   },
   "outputs": [
    {
     "name": "stdout",
     "output_type": "stream",
     "text": [
      "User 3\n",
      "Known positives:\n",
      "Seven (Se7en) (1995)\n",
      "Recommended:\n",
      "Contact (1997)\n",
      "Recommended:\n",
      "Starship Troopers (1997)\n",
      "Recommended:\n",
      "Contact (1997)\n",
      "Chasing Amy (1997)\n",
      "Jackie Brown (1997)\n",
      "User 25\n",
      "Known positives:\n",
      "Dead Man Walking (1995)\n",
      "Recommended:\n",
      "Star Wars (1977)\n",
      "Recommended:\n",
      "Fargo (1996)\n",
      "Recommended:\n",
      "Titanic (1997)\n",
      "Contact (1997)\n",
      "L.A. Confidential (1997)\n",
      "User 451\n",
      "Known positives:\n",
      "Twelve Monkeys (1995)\n",
      "Recommended:\n",
      "Babe (1995)\n",
      "Recommended:\n",
      "Mr. Holland's Opus (1995)\n",
      "Recommended:\n",
      "Raiders of the Lost Ark (1981)\n",
      "Amadeus (1984)\n",
      "Sting, The (1973)\n"
     ]
    }
   ],
   "source": [
    "sample_recommendation(model1, data, [3, 25, 451]) #providing three random user_ids."
   ]
  },
  {
   "cell_type": "markdown",
   "id": "1e694476",
   "metadata": {
    "papermill": {
     "duration": 0.007521,
     "end_time": "2022-07-20T11:03:08.735997",
     "exception": false,
     "start_time": "2022-07-20T11:03:08.728476",
     "status": "completed"
    },
    "tags": []
   },
   "source": [
    "**Modelling using 'logostic' loss**"
   ]
  },
  {
   "cell_type": "code",
   "execution_count": 18,
   "id": "947b1708",
   "metadata": {
    "execution": {
     "iopub.execute_input": "2022-07-20T11:03:08.753844Z",
     "iopub.status.busy": "2022-07-20T11:03:08.753420Z",
     "iopub.status.idle": "2022-07-20T11:03:08.757955Z",
     "shell.execute_reply": "2022-07-20T11:03:08.757136Z"
    },
    "papermill": {
     "duration": 0.015994,
     "end_time": "2022-07-20T11:03:08.759845",
     "exception": false,
     "start_time": "2022-07-20T11:03:08.743851",
     "status": "completed"
    },
    "tags": []
   },
   "outputs": [],
   "source": [
    "model2 = LightFM(loss = 'logistic')"
   ]
  },
  {
   "cell_type": "code",
   "execution_count": 19,
   "id": "178f7e7b",
   "metadata": {
    "execution": {
     "iopub.execute_input": "2022-07-20T11:03:08.778314Z",
     "iopub.status.busy": "2022-07-20T11:03:08.777647Z",
     "iopub.status.idle": "2022-07-20T11:03:09.269839Z",
     "shell.execute_reply": "2022-07-20T11:03:09.268637Z"
    },
    "papermill": {
     "duration": 0.504425,
     "end_time": "2022-07-20T11:03:09.272390",
     "exception": false,
     "start_time": "2022-07-20T11:03:08.767965",
     "status": "completed"
    },
    "tags": []
   },
   "outputs": [
    {
     "data": {
      "text/plain": [
       "<lightfm.lightfm.LightFM at 0x7fc0dac108d0>"
      ]
     },
     "execution_count": 19,
     "metadata": {},
     "output_type": "execute_result"
    }
   ],
   "source": [
    "model2.fit(data['train'], epochs=30, num_threads=2)"
   ]
  },
  {
   "cell_type": "code",
   "execution_count": 20,
   "id": "ef836d2f",
   "metadata": {
    "execution": {
     "iopub.execute_input": "2022-07-20T11:03:09.291162Z",
     "iopub.status.busy": "2022-07-20T11:03:09.290194Z",
     "iopub.status.idle": "2022-07-20T11:03:09.772392Z",
     "shell.execute_reply": "2022-07-20T11:03:09.771495Z"
    },
    "papermill": {
     "duration": 0.493992,
     "end_time": "2022-07-20T11:03:09.775004",
     "exception": false,
     "start_time": "2022-07-20T11:03:09.281012",
     "status": "completed"
    },
    "tags": []
   },
   "outputs": [
    {
     "name": "stdout",
     "output_type": "stream",
     "text": [
      "Precision: train 0.34, test 0.05.\n",
      "AUC: train 0.88, test 0.87.\n"
     ]
    }
   ],
   "source": [
    "# Evaluate it's performance\n",
    "train_precision = precision_at_k(model2, train, k=10).mean()\n",
    "test_precision = precision_at_k(model2, test, k=10).mean()\n",
    "\n",
    "train_auc = auc_score(model2, train).mean()\n",
    "test_auc = auc_score(model2, test).mean()\n",
    "\n",
    "print('Precision: train %.2f, test %.2f.' % (train_precision, test_precision))\n",
    "print('AUC: train %.2f, test %.2f.' % (train_auc, test_auc))"
   ]
  },
  {
   "cell_type": "code",
   "execution_count": 21,
   "id": "30e80f7b",
   "metadata": {
    "execution": {
     "iopub.execute_input": "2022-07-20T11:03:09.794364Z",
     "iopub.status.busy": "2022-07-20T11:03:09.793450Z",
     "iopub.status.idle": "2022-07-20T11:03:09.801013Z",
     "shell.execute_reply": "2022-07-20T11:03:09.799812Z"
    },
    "papermill": {
     "duration": 0.019184,
     "end_time": "2022-07-20T11:03:09.803261",
     "exception": false,
     "start_time": "2022-07-20T11:03:09.784077",
     "status": "completed"
    },
    "tags": []
   },
   "outputs": [],
   "source": [
    "def sample_recommendation(model2, data, user_ids): \n",
    "    n_users, n_items = data['train'].shape #get the number of all users and movies.\n",
    "    for user_id in user_ids: # iterate the user_ids.\n",
    "        known_positives = data['item_labels'][data['train'].tocsr()[user_id].indices] #For each user, we need to find the known positives or the movies they liked\n",
    "        # we need to find the movies the user like. \n",
    "        # This can be done by the predict method of LightFm. \n",
    "        # The parameters of this function are user_id and the n_items variable arrange by numpy arrange\n",
    "        scores = model2.predict(user_id, np.arange(n_items)) \n",
    "        top_items = data['item_labels'][np.argsort(-scores)] #sort the scores based on the order of most liked to least liked\n",
    "        print(\"User %s\" % user_id) #  print the first 3 known positives and 3 predictions.\n",
    "        print(\"Known positives:\")\n",
    "        for x in known_positives[:3]:\n",
    "            print(\"%s\" % x)\n",
    "            print(\"Recommended:\")\n",
    "        for x in top_items[:3]:\n",
    "            print(\"%s\" % x)"
   ]
  },
  {
   "cell_type": "code",
   "execution_count": 22,
   "id": "14266d32",
   "metadata": {
    "execution": {
     "iopub.execute_input": "2022-07-20T11:03:09.822564Z",
     "iopub.status.busy": "2022-07-20T11:03:09.821553Z",
     "iopub.status.idle": "2022-07-20T11:03:09.832254Z",
     "shell.execute_reply": "2022-07-20T11:03:09.830591Z"
    },
    "papermill": {
     "duration": 0.022559,
     "end_time": "2022-07-20T11:03:09.834472",
     "exception": false,
     "start_time": "2022-07-20T11:03:09.811913",
     "status": "completed"
    },
    "tags": []
   },
   "outputs": [
    {
     "name": "stdout",
     "output_type": "stream",
     "text": [
      "User 3\n",
      "Known positives:\n",
      "Seven (Se7en) (1995)\n",
      "Recommended:\n",
      "Contact (1997)\n",
      "Recommended:\n",
      "Starship Troopers (1997)\n",
      "Recommended:\n",
      "Star Wars (1977)\n",
      "Fargo (1996)\n",
      "Return of the Jedi (1983)\n",
      "User 25\n",
      "Known positives:\n",
      "Dead Man Walking (1995)\n",
      "Recommended:\n",
      "Star Wars (1977)\n",
      "Recommended:\n",
      "Fargo (1996)\n",
      "Recommended:\n",
      "Star Wars (1977)\n",
      "Fargo (1996)\n",
      "Return of the Jedi (1983)\n",
      "User 451\n",
      "Known positives:\n",
      "Twelve Monkeys (1995)\n",
      "Recommended:\n",
      "Babe (1995)\n",
      "Recommended:\n",
      "Mr. Holland's Opus (1995)\n",
      "Recommended:\n",
      "Star Wars (1977)\n",
      "Fargo (1996)\n",
      "Return of the Jedi (1983)\n"
     ]
    }
   ],
   "source": [
    "sample_recommendation(model2, data, [3, 25, 451]) #providing three random user_ids."
   ]
  },
  {
   "cell_type": "markdown",
   "id": "7c568b6a",
   "metadata": {
    "papermill": {
     "duration": 0.007482,
     "end_time": "2022-07-20T11:03:09.849954",
     "exception": false,
     "start_time": "2022-07-20T11:03:09.842472",
     "status": "completed"
    },
    "tags": []
   },
   "source": [
    "**Modelling using 'kOS warp' loss**"
   ]
  },
  {
   "cell_type": "code",
   "execution_count": 23,
   "id": "0ccdd56a",
   "metadata": {
    "execution": {
     "iopub.execute_input": "2022-07-20T11:03:09.867555Z",
     "iopub.status.busy": "2022-07-20T11:03:09.866844Z",
     "iopub.status.idle": "2022-07-20T11:03:09.871358Z",
     "shell.execute_reply": "2022-07-20T11:03:09.870450Z"
    },
    "papermill": {
     "duration": 0.015596,
     "end_time": "2022-07-20T11:03:09.873303",
     "exception": false,
     "start_time": "2022-07-20T11:03:09.857707",
     "status": "completed"
    },
    "tags": []
   },
   "outputs": [],
   "source": [
    "model3 = LightFM(loss = 'warp-kos')"
   ]
  },
  {
   "cell_type": "code",
   "execution_count": 24,
   "id": "76b71a27",
   "metadata": {
    "execution": {
     "iopub.execute_input": "2022-07-20T11:03:09.891832Z",
     "iopub.status.busy": "2022-07-20T11:03:09.891374Z",
     "iopub.status.idle": "2022-07-20T11:03:11.773444Z",
     "shell.execute_reply": "2022-07-20T11:03:11.772337Z"
    },
    "papermill": {
     "duration": 1.894023,
     "end_time": "2022-07-20T11:03:11.775693",
     "exception": false,
     "start_time": "2022-07-20T11:03:09.881670",
     "status": "completed"
    },
    "tags": []
   },
   "outputs": [
    {
     "data": {
      "text/plain": [
       "<lightfm.lightfm.LightFM at 0x7fc0dac2ff50>"
      ]
     },
     "execution_count": 24,
     "metadata": {},
     "output_type": "execute_result"
    }
   ],
   "source": [
    "model3.fit(data['train'], epochs=30, num_threads=2)"
   ]
  },
  {
   "cell_type": "code",
   "execution_count": 25,
   "id": "c41762ff",
   "metadata": {
    "execution": {
     "iopub.execute_input": "2022-07-20T11:03:11.794224Z",
     "iopub.status.busy": "2022-07-20T11:03:11.793814Z",
     "iopub.status.idle": "2022-07-20T11:03:12.281661Z",
     "shell.execute_reply": "2022-07-20T11:03:12.280463Z"
    },
    "papermill": {
     "duration": 0.500089,
     "end_time": "2022-07-20T11:03:12.284657",
     "exception": false,
     "start_time": "2022-07-20T11:03:11.784568",
     "status": "completed"
    },
    "tags": []
   },
   "outputs": [
    {
     "name": "stdout",
     "output_type": "stream",
     "text": [
      "Precision: train 0.51, test 0.07.\n",
      "AUC: train 0.93, test 0.89.\n"
     ]
    }
   ],
   "source": [
    "# Evaluate it's performance\n",
    "train_precision = precision_at_k(model3, train, k=10).mean()\n",
    "test_precision = precision_at_k(model3, test, k=10).mean()\n",
    "\n",
    "train_auc = auc_score(model3, train).mean()\n",
    "test_auc = auc_score(model3, test).mean()\n",
    "\n",
    "print('Precision: train %.2f, test %.2f.' % (train_precision, test_precision))\n",
    "print('AUC: train %.2f, test %.2f.' % (train_auc, test_auc))"
   ]
  },
  {
   "cell_type": "code",
   "execution_count": 26,
   "id": "db54846f",
   "metadata": {
    "execution": {
     "iopub.execute_input": "2022-07-20T11:03:12.303063Z",
     "iopub.status.busy": "2022-07-20T11:03:12.302650Z",
     "iopub.status.idle": "2022-07-20T11:03:12.310455Z",
     "shell.execute_reply": "2022-07-20T11:03:12.309519Z"
    },
    "papermill": {
     "duration": 0.019171,
     "end_time": "2022-07-20T11:03:12.312610",
     "exception": false,
     "start_time": "2022-07-20T11:03:12.293439",
     "status": "completed"
    },
    "tags": []
   },
   "outputs": [],
   "source": [
    "def sample_recommendation(model3, data, user_ids): \n",
    "    n_users, n_items = data['train'].shape #get the number of all users and movies.\n",
    "    for user_id in user_ids: # iterate the user_ids.\n",
    "        known_positives = data['item_labels'][data['train'].tocsr()[user_id].indices] #For each user, we need to find the known positives or the movies they liked\n",
    "        # we need to find the movies the user like. \n",
    "        # This can be done by the predict method of LightFm. \n",
    "        # The parameters of this function are user_id and the n_items variable arrange by numpy arrange\n",
    "        scores = model3.predict(user_id, np.arange(n_items)) \n",
    "        top_items = data['item_labels'][np.argsort(-scores)] #sort the scores based on the order of most liked to least liked\n",
    "        print(\"User %s\" % user_id) #  print the first 3 known positives and 3 predictions.\n",
    "        print(\"Known positives:\")\n",
    "        for x in known_positives[:3]:\n",
    "            print(\"%s\" % x)\n",
    "            print(\"Recommended:\")\n",
    "        for x in top_items[:3]:\n",
    "            print(\"%s\" % x)"
   ]
  },
  {
   "cell_type": "code",
   "execution_count": 27,
   "id": "dcdfbf61",
   "metadata": {
    "execution": {
     "iopub.execute_input": "2022-07-20T11:03:12.331522Z",
     "iopub.status.busy": "2022-07-20T11:03:12.330502Z",
     "iopub.status.idle": "2022-07-20T11:03:12.340354Z",
     "shell.execute_reply": "2022-07-20T11:03:12.339324Z"
    },
    "papermill": {
     "duration": 0.021711,
     "end_time": "2022-07-20T11:03:12.342626",
     "exception": false,
     "start_time": "2022-07-20T11:03:12.320915",
     "status": "completed"
    },
    "tags": []
   },
   "outputs": [
    {
     "name": "stdout",
     "output_type": "stream",
     "text": [
      "User 3\n",
      "Known positives:\n",
      "Seven (Se7en) (1995)\n",
      "Recommended:\n",
      "Contact (1997)\n",
      "Recommended:\n",
      "Starship Troopers (1997)\n",
      "Recommended:\n",
      "In & Out (1997)\n",
      "Contact (1997)\n",
      "Starship Troopers (1997)\n",
      "User 25\n",
      "Known positives:\n",
      "Dead Man Walking (1995)\n",
      "Recommended:\n",
      "Star Wars (1977)\n",
      "Recommended:\n",
      "Fargo (1996)\n",
      "Recommended:\n",
      "Fargo (1996)\n",
      "Godfather, The (1972)\n",
      "L.A. Confidential (1997)\n",
      "User 451\n",
      "Known positives:\n",
      "Twelve Monkeys (1995)\n",
      "Recommended:\n",
      "Babe (1995)\n",
      "Recommended:\n",
      "Mr. Holland's Opus (1995)\n",
      "Recommended:\n",
      "Casablanca (1942)\n",
      "Amadeus (1984)\n",
      "Graduate, The (1967)\n"
     ]
    }
   ],
   "source": [
    "sample_recommendation(model3, data, [3, 25, 451]) #providing three random user_ids."
   ]
  },
  {
   "cell_type": "code",
   "execution_count": null,
   "id": "06d0c6b1",
   "metadata": {
    "papermill": {
     "duration": 0.007583,
     "end_time": "2022-07-20T11:03:12.358495",
     "exception": false,
     "start_time": "2022-07-20T11:03:12.350912",
     "status": "completed"
    },
    "tags": []
   },
   "outputs": [],
   "source": []
  }
 ],
 "metadata": {
  "kernelspec": {
   "display_name": "Python 3",
   "language": "python",
   "name": "python3"
  },
  "language_info": {
   "codemirror_mode": {
    "name": "ipython",
    "version": 3
   },
   "file_extension": ".py",
   "mimetype": "text/x-python",
   "name": "python",
   "nbconvert_exporter": "python",
   "pygments_lexer": "ipython3",
   "version": "3.7.12"
  },
  "papermill": {
   "default_parameters": {},
   "duration": 28.744452,
   "end_time": "2022-07-20T11:03:13.087821",
   "environment_variables": {},
   "exception": null,
   "input_path": "__notebook__.ipynb",
   "output_path": "__notebook__.ipynb",
   "parameters": {},
   "start_time": "2022-07-20T11:02:44.343369",
   "version": "2.3.4"
  }
 },
 "nbformat": 4,
 "nbformat_minor": 5
}
